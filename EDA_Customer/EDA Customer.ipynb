{
 "cells": [
  {
   "cell_type": "code",
   "execution_count": 3,
   "id": "f0a12468-ab58-4174-b42b-efd4ead3982f",
   "metadata": {},
   "outputs": [],
   "source": [
    "#lib for extraction ,manipulation,analysis\n",
    "import numpy as np\n",
    "import pandas as pd\n",
    "# for visualtion\n",
    "import matplotlib.pyplot as plt\n",
    "import seaborn as sns\n",
    "# for stats\n",
    "import scipy.stats \n",
    "from scipy.stats import shapiro, chi2, normaltest, kstest, zscore\n",
    "# for vif \n",
    "from statsmodels.stats.outliers_influence import variance_inflation_factor\n",
    "# train test split\n",
    "from sklearn.model_selection import train_test_split"
   ]
  },
  {
   "cell_type": "code",
   "execution_count": 4,
   "id": "9a11c51d-0010-47d8-9909-4bbce4497dd9",
   "metadata": {},
   "outputs": [
    {
     "data": {
      "text/html": [
       "<div>\n",
       "<style scoped>\n",
       "    .dataframe tbody tr th:only-of-type {\n",
       "        vertical-align: middle;\n",
       "    }\n",
       "\n",
       "    .dataframe tbody tr th {\n",
       "        vertical-align: top;\n",
       "    }\n",
       "\n",
       "    .dataframe thead th {\n",
       "        text-align: right;\n",
       "    }\n",
       "</style>\n",
       "<table border=\"1\" class=\"dataframe\">\n",
       "  <thead>\n",
       "    <tr style=\"text-align: right;\">\n",
       "      <th></th>\n",
       "      <th>Channel</th>\n",
       "      <th>Region</th>\n",
       "      <th>Fresh</th>\n",
       "      <th>Milk</th>\n",
       "      <th>Grocery</th>\n",
       "      <th>Frozen</th>\n",
       "      <th>Detergents_Paper</th>\n",
       "      <th>Delicatessen</th>\n",
       "    </tr>\n",
       "  </thead>\n",
       "  <tbody>\n",
       "    <tr>\n",
       "      <th>0</th>\n",
       "      <td>2</td>\n",
       "      <td>3</td>\n",
       "      <td>12669</td>\n",
       "      <td>9656</td>\n",
       "      <td>7561</td>\n",
       "      <td>214</td>\n",
       "      <td>2674</td>\n",
       "      <td>1338</td>\n",
       "    </tr>\n",
       "    <tr>\n",
       "      <th>1</th>\n",
       "      <td>2</td>\n",
       "      <td>3</td>\n",
       "      <td>7057</td>\n",
       "      <td>9810</td>\n",
       "      <td>9568</td>\n",
       "      <td>1762</td>\n",
       "      <td>3293</td>\n",
       "      <td>1776</td>\n",
       "    </tr>\n",
       "    <tr>\n",
       "      <th>2</th>\n",
       "      <td>2</td>\n",
       "      <td>3</td>\n",
       "      <td>6353</td>\n",
       "      <td>8808</td>\n",
       "      <td>7684</td>\n",
       "      <td>2405</td>\n",
       "      <td>3516</td>\n",
       "      <td>7844</td>\n",
       "    </tr>\n",
       "    <tr>\n",
       "      <th>3</th>\n",
       "      <td>1</td>\n",
       "      <td>3</td>\n",
       "      <td>13265</td>\n",
       "      <td>1196</td>\n",
       "      <td>4221</td>\n",
       "      <td>6404</td>\n",
       "      <td>507</td>\n",
       "      <td>1788</td>\n",
       "    </tr>\n",
       "    <tr>\n",
       "      <th>4</th>\n",
       "      <td>2</td>\n",
       "      <td>3</td>\n",
       "      <td>22615</td>\n",
       "      <td>5410</td>\n",
       "      <td>7198</td>\n",
       "      <td>3915</td>\n",
       "      <td>1777</td>\n",
       "      <td>5185</td>\n",
       "    </tr>\n",
       "    <tr>\n",
       "      <th>...</th>\n",
       "      <td>...</td>\n",
       "      <td>...</td>\n",
       "      <td>...</td>\n",
       "      <td>...</td>\n",
       "      <td>...</td>\n",
       "      <td>...</td>\n",
       "      <td>...</td>\n",
       "      <td>...</td>\n",
       "    </tr>\n",
       "    <tr>\n",
       "      <th>435</th>\n",
       "      <td>1</td>\n",
       "      <td>3</td>\n",
       "      <td>29703</td>\n",
       "      <td>12051</td>\n",
       "      <td>16027</td>\n",
       "      <td>13135</td>\n",
       "      <td>182</td>\n",
       "      <td>2204</td>\n",
       "    </tr>\n",
       "    <tr>\n",
       "      <th>436</th>\n",
       "      <td>1</td>\n",
       "      <td>3</td>\n",
       "      <td>39228</td>\n",
       "      <td>1431</td>\n",
       "      <td>764</td>\n",
       "      <td>4510</td>\n",
       "      <td>93</td>\n",
       "      <td>2346</td>\n",
       "    </tr>\n",
       "    <tr>\n",
       "      <th>437</th>\n",
       "      <td>2</td>\n",
       "      <td>3</td>\n",
       "      <td>14531</td>\n",
       "      <td>15488</td>\n",
       "      <td>30243</td>\n",
       "      <td>437</td>\n",
       "      <td>14841</td>\n",
       "      <td>1867</td>\n",
       "    </tr>\n",
       "    <tr>\n",
       "      <th>438</th>\n",
       "      <td>1</td>\n",
       "      <td>3</td>\n",
       "      <td>10290</td>\n",
       "      <td>1981</td>\n",
       "      <td>2232</td>\n",
       "      <td>1038</td>\n",
       "      <td>168</td>\n",
       "      <td>2125</td>\n",
       "    </tr>\n",
       "    <tr>\n",
       "      <th>439</th>\n",
       "      <td>1</td>\n",
       "      <td>3</td>\n",
       "      <td>2787</td>\n",
       "      <td>1698</td>\n",
       "      <td>2510</td>\n",
       "      <td>65</td>\n",
       "      <td>477</td>\n",
       "      <td>52</td>\n",
       "    </tr>\n",
       "  </tbody>\n",
       "</table>\n",
       "<p>440 rows × 8 columns</p>\n",
       "</div>"
      ],
      "text/plain": [
       "     Channel  Region  Fresh   Milk  Grocery  Frozen  Detergents_Paper  \\\n",
       "0          2       3  12669   9656     7561     214              2674   \n",
       "1          2       3   7057   9810     9568    1762              3293   \n",
       "2          2       3   6353   8808     7684    2405              3516   \n",
       "3          1       3  13265   1196     4221    6404               507   \n",
       "4          2       3  22615   5410     7198    3915              1777   \n",
       "..       ...     ...    ...    ...      ...     ...               ...   \n",
       "435        1       3  29703  12051    16027   13135               182   \n",
       "436        1       3  39228   1431      764    4510                93   \n",
       "437        2       3  14531  15488    30243     437             14841   \n",
       "438        1       3  10290   1981     2232    1038               168   \n",
       "439        1       3   2787   1698     2510      65               477   \n",
       "\n",
       "     Delicatessen  \n",
       "0            1338  \n",
       "1            1776  \n",
       "2            7844  \n",
       "3            1788  \n",
       "4            5185  \n",
       "..            ...  \n",
       "435          2204  \n",
       "436          2346  \n",
       "437          1867  \n",
       "438          2125  \n",
       "439            52  \n",
       "\n",
       "[440 rows x 8 columns]"
      ]
     },
     "execution_count": 4,
     "metadata": {},
     "output_type": "execute_result"
    }
   ],
   "source": [
    "# importing dataset \n",
    "data=pd.read_csv(r\"C:\\Users\\deshm\\OneDrive\\Desktop\\ML\\02-EDA\\A2Q3 customers.csv\")\n",
    "data"
   ]
  },
  {
   "cell_type": "code",
   "execution_count": 5,
   "id": "d8c853a5-aa26-4c1c-98d1-a73e86e44a70",
   "metadata": {},
   "outputs": [
    {
     "name": "stdout",
     "output_type": "stream",
     "text": [
      "Shape: (440, 8)\n",
      "- - - - - - - - - - - - - - - - - - - - - - - - - - - - - - - - - - - - - - - - - - - - - - - - - - \n",
      "Size: 3520\n",
      "- - - - - - - - - - - - - - - - - - - - - - - - - - - - - - - - - - - - - - - - - - - - - - - - - - \n",
      "INFO: <bound method DataFrame.info of      Channel  Region  Fresh   Milk  Grocery  Frozen  Detergents_Paper  \\\n",
      "0          2       3  12669   9656     7561     214              2674   \n",
      "1          2       3   7057   9810     9568    1762              3293   \n",
      "2          2       3   6353   8808     7684    2405              3516   \n",
      "3          1       3  13265   1196     4221    6404               507   \n",
      "4          2       3  22615   5410     7198    3915              1777   \n",
      "..       ...     ...    ...    ...      ...     ...               ...   \n",
      "435        1       3  29703  12051    16027   13135               182   \n",
      "436        1       3  39228   1431      764    4510                93   \n",
      "437        2       3  14531  15488    30243     437             14841   \n",
      "438        1       3  10290   1981     2232    1038               168   \n",
      "439        1       3   2787   1698     2510      65               477   \n",
      "\n",
      "     Delicatessen  \n",
      "0            1338  \n",
      "1            1776  \n",
      "2            7844  \n",
      "3            1788  \n",
      "4            5185  \n",
      "..            ...  \n",
      "435          2204  \n",
      "436          2346  \n",
      "437          1867  \n",
      "438          2125  \n",
      "439            52  \n",
      "\n",
      "[440 rows x 8 columns]>\n",
      "- - - - - - - - - - - - - - - - - - - - - - - - - - - - - - - - - - - - - - - - - - - - - - - - - - \n",
      "Describe:           Channel      Region          Fresh          Milk       Grocery  \\\n",
      "count  440.000000  440.000000     440.000000    440.000000    440.000000   \n",
      "mean     1.322727    2.543182   12000.297727   5796.265909   7951.277273   \n",
      "std      0.468052    0.774272   12647.328865   7380.377175   9503.162829   \n",
      "min      1.000000    1.000000       3.000000     55.000000      3.000000   \n",
      "25%      1.000000    2.000000    3127.750000   1533.000000   2153.000000   \n",
      "50%      1.000000    3.000000    8504.000000   3627.000000   4755.500000   \n",
      "75%      2.000000    3.000000   16933.750000   7190.250000  10655.750000   \n",
      "max      2.000000    3.000000  112151.000000  73498.000000  92780.000000   \n",
      "\n",
      "             Frozen  Detergents_Paper  Delicatessen  \n",
      "count    440.000000        440.000000    440.000000  \n",
      "mean    3071.931818       2881.493182   1524.870455  \n",
      "std     4854.673333       4767.854448   2820.105937  \n",
      "min       25.000000          3.000000      3.000000  \n",
      "25%      742.250000        256.750000    408.250000  \n",
      "50%     1526.000000        816.500000    965.500000  \n",
      "75%     3554.250000       3922.000000   1820.250000  \n",
      "max    60869.000000      40827.000000  47943.000000  \n",
      "- - - - - - - - - - - - - - - - - - - - - - - - - - - - - - - - - - - - - - - - - - - - - - - - - - \n",
      "Dtype: Channel             int64\n",
      "Region              int64\n",
      "Fresh               int64\n",
      "Milk                int64\n",
      "Grocery             int64\n",
      "Frozen              int64\n",
      "Detergents_Paper    int64\n",
      "Delicatessen        int64\n",
      "dtype: object\n",
      "* * * * * * * * * * * * * * * * * * * * * * * * * * * * * * * * * * * * * * * * * * * * * * * * * * \n",
      "Checking Null Values: Channel             0\n",
      "Region              0\n",
      "Fresh               0\n",
      "Milk                0\n",
      "Grocery             0\n",
      "Frozen              0\n",
      "Detergents_Paper    0\n",
      "Delicatessen        0\n",
      "dtype: int64\n"
     ]
    }
   ],
   "source": [
    "#EDA for each data analysis \n",
    "def eda(data):\n",
    "    print(\"Shape:\",data.shape)\n",
    "    print(\"- \"*50)\n",
    "    print(\"Size:\",data.size)\n",
    "    print(\"- \"*50)\n",
    "    print(\"INFO:\",data.info)\n",
    "    print(\"- \"*50)\n",
    "    print(\"Describe:\",data.describe())\n",
    "    print(\"- \"*50)\n",
    "    print(\"Dtype:\",data.dtypes)\n",
    "    print(\"* \"*50)\n",
    "    print(\"Checking Null Values:\",data.isnull().sum())\n",
    "\n",
    "eda(data)"
   ]
  },
  {
   "cell_type": "code",
   "execution_count": 6,
   "id": "be4ef6e2-64ef-4d93-a91b-c21c8302995e",
   "metadata": {},
   "outputs": [],
   "source": [
    "# Analysis for Numerical Columns\n",
    "def Num_col(data, col):\n",
    "    mean=data[col].mean()\n",
    "    median=data[col].median()\n",
    "    mode=data[col].mode()[0]\n",
    "    var =data[col].var()\n",
    "    std=data[col].std()\n",
    "    skew=data[col].skew()\n",
    "    Min=data[col].min()\n",
    "    Max=data[col].max()\n",
    "    Range=Max-Min\n",
    "    print(\"Numerical Columns Analysis:\")\n",
    "    print(f\"mean:{mean}\\nmedian:{median}\\nmode:{mode}\\nvar:{var}\\nstd:{std}\\nskew:{skew}\\nMIN:{Min}\\nMAAX:{Max}\\nRange:{Range}\")\n"
   ]
  },
  {
   "cell_type": "code",
   "execution_count": 7,
   "id": "29373cd7-3bca-4e0c-9e82-6003dbfc8540",
   "metadata": {},
   "outputs": [
    {
     "name": "stdout",
     "output_type": "stream",
     "text": [
      "Numerical Columns Analysis:\n",
      "mean:1.3227272727272728\n",
      "median:1.0\n",
      "mode:1\n",
      "var:0.2190722716918627\n",
      "std:0.46805156947911486\n",
      "skew:0.760951157493207\n",
      "MIN:1\n",
      "MAAX:2\n",
      "Range:1\n"
     ]
    }
   ],
   "source": [
    " Num_col(data,\"Channel\")"
   ]
  },
  {
   "cell_type": "code",
   "execution_count": 8,
   "id": "8cc09cb4-7c6f-441a-98f7-8ccb5fdeb518",
   "metadata": {},
   "outputs": [
    {
     "name": "stdout",
     "output_type": "stream",
     "text": [
      "Numerical Columns Analysis:\n",
      "mean:2.543181818181818\n",
      "median:3.0\n",
      "mode:3\n",
      "var:0.5994978256367766\n",
      "std:0.7742724492300992\n",
      "skew:-1.283626930042069\n",
      "MIN:1\n",
      "MAAX:3\n",
      "Range:2\n"
     ]
    }
   ],
   "source": [
    "Num_col(data,\"Region\")"
   ]
  },
  {
   "cell_type": "code",
   "execution_count": 9,
   "id": "e009a2ca-941c-4770-ba62-66d62c8487a1",
   "metadata": {},
   "outputs": [
    {
     "name": "stdout",
     "output_type": "stream",
     "text": [
      "Numerical Columns Analysis:\n",
      "mean:12000.297727272728\n",
      "median:8504.0\n",
      "mode:3\n",
      "var:159954927.4214072\n",
      "std:12647.328865076894\n",
      "skew:2.561322751927935\n",
      "MIN:3\n",
      "MAAX:112151\n",
      "Range:112148\n"
     ]
    }
   ],
   "source": [
    "Num_col(data,\"Fresh\")"
   ]
  },
  {
   "cell_type": "code",
   "execution_count": 10,
   "id": "30eb66a7-eb80-4977-b960-ae9114334dc4",
   "metadata": {},
   "outputs": [
    {
     "name": "stdout",
     "output_type": "stream",
     "text": [
      "Numerical Columns Analysis:\n",
      "mean:5796.265909090909\n",
      "median:3627.0\n",
      "mode:577\n",
      "var:54469967.23892629\n",
      "std:7380.377174570843\n",
      "skew:4.053754849210881\n",
      "MIN:55\n",
      "MAAX:73498\n",
      "Range:73443\n"
     ]
    }
   ],
   "source": [
    "Num_col(data,\"Milk\")"
   ]
  },
  {
   "cell_type": "code",
   "execution_count": 11,
   "id": "c0ae09f8-5c6e-47b5-ad34-3d66ded2c995",
   "metadata": {},
   "outputs": [
    {
     "name": "stdout",
     "output_type": "stream",
     "text": [
      "Numerical Columns Analysis:\n",
      "mean:7951.277272727273\n",
      "median:4755.5\n",
      "mode:683\n",
      "var:90310103.75437982\n",
      "std:9503.162828994346\n",
      "skew:3.5874286903915453\n",
      "MIN:3\n",
      "MAAX:92780\n",
      "Range:92777\n"
     ]
    }
   ],
   "source": [
    "Num_col(data,\"Grocery\")"
   ]
  },
  {
   "cell_type": "code",
   "execution_count": 12,
   "id": "e228640f-6e8d-4648-b64d-e93acab452d9",
   "metadata": {},
   "outputs": [
    {
     "name": "stdout",
     "output_type": "stream",
     "text": [
      "Numerical Columns Analysis:\n",
      "mean:3071.931818181818\n",
      "median:1526.0\n",
      "mode:133\n",
      "var:23567853.166183475\n",
      "std:4854.673332592367\n",
      "skew:5.9079856924559575\n",
      "MIN:25\n",
      "MAAX:60869\n",
      "Range:60844\n"
     ]
    }
   ],
   "source": [
    "Num_col(data,\"Frozen\")"
   ]
  },
  {
   "cell_type": "code",
   "execution_count": 13,
   "id": "631ae95c-244f-485f-9a43-2b0d1f2e22ad",
   "metadata": {},
   "outputs": [
    {
     "name": "stdout",
     "output_type": "stream",
     "text": [
      "Numerical Columns Analysis:\n",
      "mean:2881.4931818181817\n",
      "median:816.5\n",
      "mode:3\n",
      "var:22732436.036399864\n",
      "std:4767.8544479042\n",
      "skew:3.6318506306913645\n",
      "MIN:3\n",
      "MAAX:40827\n",
      "Range:40824\n"
     ]
    }
   ],
   "source": [
    "Num_col(data,\"Detergents_Paper\")"
   ]
  },
  {
   "cell_type": "code",
   "execution_count": 26,
   "id": "a9df42fd-84b3-4dd1-9892-5612c9e03eaf",
   "metadata": {},
   "outputs": [
    {
     "name": "stdout",
     "output_type": "stream",
     "text": [
      "Numerical Columns Analysis:\n",
      "mean:1524.8704545454545\n",
      "median:965.5\n",
      "mode:3\n",
      "var:7952997.497986128\n",
      "std:2820.1059373693975\n",
      "skew:11.151586478906117\n",
      "MIN:3\n",
      "MAAX:47943\n",
      "Range:47940\n"
     ]
    }
   ],
   "source": [
    "Num_col(data,\"Delicatessen\")"
   ]
  },
  {
   "cell_type": "code",
   "execution_count": 30,
   "id": "b5c2ea41-9c6f-4899-8d7e-c922c8dcaeb2",
   "metadata": {},
   "outputs": [],
   "source": [
    "def Checking_and_Handling_Of_Outliers(data, col):\n",
    "    sns.boxplot(data[col], color = \"Red\")\n",
    "    plt.title(f\"Boxplot for {col}\")\n",
    "    plt.show()\n",
    "        \n",
    "    q1 = data[col].quantile(0.25)\n",
    "    q3 = data[col].quantile(0.75)\n",
    "\n",
    "    iqr = q3 - q1\n",
    "\n",
    "    LowerTail = q1 - 1.5*iqr\n",
    "    UpperTail = q3 + 1.5*iqr\n",
    "\n",
    "    print(f\"25% Quantile q1 = {q1}\\n75% Quantile q3 = {q3}\\nIQR = {iqr}\\n\")\n",
    "    print(\"-\"*80)\n",
    "    print(f\"Lower Tail = {LowerTail}\\nUpper Tail = {UpperTail}\")\n",
    "    print(\"-\"*80)\n",
    "\n",
    "    # Checking for Outliers\n",
    "    Outliers = data[(data[col] < LowerTail) | (data[col] > UpperTail)]\n",
    "    print(\"\\nOutliers :\\n\",Outliers)\n",
    "    print(\"-\"*80)\n",
    "\n",
    "    #HAndling of Outliers :\n",
    "    data.loc[data[col] < LowerTail, col] = LowerTail # all outliers less than lowertail, assigned by lowertail value\n",
    "    data.loc[data[col] > UpperTail, col] = UpperTail # all outliers greater than uppertail, assigned by uppertail value\n",
    "    print(\"After handling of Outliers data:\\n\")\n",
    "    print(data.head())"
   ]
  },
  {
   "cell_type": "code",
   "execution_count": 32,
   "id": "ee60d137-a9d8-44fc-b816-e3c09517b4a9",
   "metadata": {},
   "outputs": [
    {
     "name": "stdout",
     "output_type": "stream",
     "text": [
      "<class 'pandas.core.frame.DataFrame'>\n",
      "RangeIndex: 440 entries, 0 to 439\n",
      "Data columns (total 8 columns):\n",
      " #   Column            Non-Null Count  Dtype\n",
      "---  ------            --------------  -----\n",
      " 0   Channel           440 non-null    int64\n",
      " 1   Region            440 non-null    int64\n",
      " 2   Fresh             440 non-null    int64\n",
      " 3   Milk              440 non-null    int64\n",
      " 4   Grocery           440 non-null    int64\n",
      " 5   Frozen            440 non-null    int64\n",
      " 6   Detergents_Paper  440 non-null    int64\n",
      " 7   Delicatessen      440 non-null    int64\n",
      "dtypes: int64(8)\n",
      "memory usage: 27.6 KB\n"
     ]
    }
   ],
   "source": [
    "data.info()"
   ]
  },
  {
   "cell_type": "code",
   "execution_count": 34,
   "id": "a0b86747-d945-490f-9fb3-fa60fcf4f7a7",
   "metadata": {},
   "outputs": [
    {
     "data": {
      "image/png": "[encoded data removed]",
      "text/plain": [
       "<Figure size 640x480 with 1 Axes>"
      ]
     },
     "metadata": {},
     "output_type": "display_data"
    },
    {
     "name": "stdout",
     "output_type": "stream",
     "text": [
      "25% Quantile q1 = 1.0\n",
      "75% Quantile q3 = 2.0\n",
      "IQR = 1.0\n",
      "\n",
      "--------------------------------------------------------------------------------\n",
      "Lower Tail = -0.5\n",
      "Upper Tail = 3.5\n",
      "--------------------------------------------------------------------------------\n",
      "\n",
      "Outliers :\n",
      " Empty DataFrame\n",
      "Columns: [Channel, Region, Fresh, Milk, Grocery, Frozen, Detergents_Paper, Delicatessen]\n",
      "Index: []\n",
      "--------------------------------------------------------------------------------\n",
      "After handling of Outliers data:\n",
      "\n",
      "   Channel  Region  Fresh  Milk  Grocery  Frozen  Detergents_Paper  \\\n",
      "0      2.0       3  12669  9656     7561     214              2674   \n",
      "1      2.0       3   7057  9810     9568    1762              3293   \n",
      "2      2.0       3   6353  8808     7684    2405              3516   \n",
      "3      1.0       3  13265  1196     4221    6404               507   \n",
      "4      2.0       3  22615  5410     7198    3915              1777   \n",
      "\n",
      "   Delicatessen  \n",
      "0          1338  \n",
      "1          1776  \n",
      "2          7844  \n",
      "3          1788  \n",
      "4          5185  \n"
     ]
    },
    {
     "name": "stderr",
     "output_type": "stream",
     "text": [
      "C:\\Users\\deshm\\AppData\\Local\\Temp\\ipykernel_3780\\4129211344.py:25: FutureWarning: Setting an item of incompatible dtype is deprecated and will raise an error in a future version of pandas. Value '-0.5' has dtype incompatible with int64, please explicitly cast to a compatible dtype first.\n",
      "  data.loc[data[col] < LowerTail, col] = LowerTail # all outliers less than lowertail, assigned by lowertail value\n"
     ]
    }
   ],
   "source": [
    "Checking_and_Handling_Of_Outliers(data, \"Channel\")"
   ]
  },
  {
   "cell_type": "code",
   "execution_count": 36,
   "id": "6c00ce05-39d6-475c-a002-e1f7fcc01570",
   "metadata": {},
   "outputs": [
    {
     "data": {
      "image/png": "[encoded data removed]",
      "text/plain": [
       "<Figure size 640x480 with 1 Axes>"
      ]
     },
     "metadata": {},
     "output_type": "display_data"
    },
    {
     "name": "stdout",
     "output_type": "stream",
     "text": [
      "25% Quantile q1 = 2.0\n",
      "75% Quantile q3 = 3.0\n",
      "IQR = 1.0\n",
      "\n",
      "--------------------------------------------------------------------------------\n",
      "Lower Tail = 0.5\n",
      "Upper Tail = 4.5\n",
      "--------------------------------------------------------------------------------\n",
      "\n",
      "Outliers :\n",
      " Empty DataFrame\n",
      "Columns: [Channel, Region, Fresh, Milk, Grocery, Frozen, Detergents_Paper, Delicatessen]\n",
      "Index: []\n",
      "--------------------------------------------------------------------------------\n",
      "After handling of Outliers data:\n",
      "\n",
      "   Channel  Region  Fresh  Milk  Grocery  Frozen  Detergents_Paper  \\\n",
      "0      2.0     3.0  12669  9656     7561     214              2674   \n",
      "1      2.0     3.0   7057  9810     9568    1762              3293   \n",
      "2      2.0     3.0   6353  8808     7684    2405              3516   \n",
      "3      1.0     3.0  13265  1196     4221    6404               507   \n",
      "4      2.0     3.0  22615  5410     7198    3915              1777   \n",
      "\n",
      "   Delicatessen  \n",
      "0          1338  \n",
      "1          1776  \n",
      "2          7844  \n",
      "3          1788  \n",
      "4          5185  \n"
     ]
    },
    {
     "name": "stderr",
     "output_type": "stream",
     "text": [
      "C:\\Users\\deshm\\AppData\\Local\\Temp\\ipykernel_3780\\4129211344.py:25: FutureWarning: Setting an item of incompatible dtype is deprecated and will raise an error in a future version of pandas. Value '0.5' has dtype incompatible with int64, please explicitly cast to a compatible dtype first.\n",
      "  data.loc[data[col] < LowerTail, col] = LowerTail # all outliers less than lowertail, assigned by lowertail value\n"
     ]
    }
   ],
   "source": [
    "Checking_and_Handling_Of_Outliers(data, \"Region\")"
   ]
  },
  {
   "cell_type": "code",
   "execution_count": 38,
   "id": "9c6b2324-1151-4d2d-a8c0-061eebb3d0b3",
   "metadata": {},
   "outputs": [
    {
     "data": {
      "image/png": "[encoded data removed]",
      "text/plain": [
       "<Figure size 640x480 with 1 Axes>"
      ]
     },
     "metadata": {},
     "output_type": "display_data"
    },
    {
     "name": "stdout",
     "output_type": "stream",
     "text": [
      "25% Quantile q1 = 3127.75\n",
      "75% Quantile q3 = 16933.75\n",
      "IQR = 13806.0\n",
      "\n",
      "--------------------------------------------------------------------------------\n",
      "Lower Tail = -17581.25\n",
      "Upper Tail = 37642.75\n",
      "--------------------------------------------------------------------------------\n",
      "\n",
      "Outliers :\n",
      "      Channel  Region   Fresh   Milk  Grocery  Frozen  Detergents_Paper  \\\n",
      "29       1.0     3.0   43088   2100     2609    1200              1107   \n",
      "39       1.0     3.0   56159    555      902   10002               212   \n",
      "47       2.0     3.0   44466  54259    55571    7782             24171   \n",
      "52       2.0     3.0   40721   3916     5876     532              2587   \n",
      "87       1.0     3.0   43265   5025     8117    6312              1579   \n",
      "103      1.0     3.0   56082   3504     8906   18028              1480   \n",
      "125      1.0     3.0   76237   3473     7102   16538               778   \n",
      "129      1.0     3.0   42312    926     1510    1718               410   \n",
      "176      1.0     3.0   45640   6958     6536    7368              1532   \n",
      "181      1.0     3.0  112151  29627    18148   16745              4948   \n",
      "239      1.0     1.0   47493   2567     3779    5243               828   \n",
      "258      1.0     1.0   56083   4563     2124    6422               730   \n",
      "259      1.0     1.0   53205   4959     7336    3012               967   \n",
      "282      1.0     3.0   49063   3965     4252    5970              1041   \n",
      "284      1.0     3.0   68951   4411    12609    8692               751   \n",
      "285      1.0     3.0   40254    640     3600    1042               436   \n",
      "289      1.0     3.0   42786    286      471    1388                32   \n",
      "370      2.0     3.0   39679   3944     4955    1364               523   \n",
      "377      1.0     3.0   38793   3154     2648    1034                96   \n",
      "436      1.0     3.0   39228   1431      764    4510                93   \n",
      "\n",
      "     Delicatessen  \n",
      "29            823  \n",
      "39           2916  \n",
      "47           6465  \n",
      "52           1278  \n",
      "87          14351  \n",
      "103          2498  \n",
      "125           918  \n",
      "129          1819  \n",
      "176           230  \n",
      "181          8550  \n",
      "239          2253  \n",
      "258          3321  \n",
      "259           818  \n",
      "282          1404  \n",
      "284          2406  \n",
      "285            18  \n",
      "289            22  \n",
      "370          2235  \n",
      "377          1242  \n",
      "436          2346  \n",
      "--------------------------------------------------------------------------------\n",
      "After handling of Outliers data:\n",
      "\n",
      "   Channel  Region    Fresh  Milk  Grocery  Frozen  Detergents_Paper  \\\n",
      "0      2.0     3.0  12669.0  9656     7561     214              2674   \n",
      "1      2.0     3.0   7057.0  9810     9568    1762              3293   \n",
      "2      2.0     3.0   6353.0  8808     7684    2405              3516   \n",
      "3      1.0     3.0  13265.0  1196     4221    6404               507   \n",
      "4      2.0     3.0  22615.0  5410     7198    3915              1777   \n",
      "\n",
      "   Delicatessen  \n",
      "0          1338  \n",
      "1          1776  \n",
      "2          7844  \n",
      "3          1788  \n",
      "4          5185  \n"
     ]
    },
    {
     "name": "stderr",
     "output_type": "stream",
     "text": [
      "C:\\Users\\deshm\\AppData\\Local\\Temp\\ipykernel_3780\\4129211344.py:25: FutureWarning: Setting an item of incompatible dtype is deprecated and will raise an error in a future version of pandas. Value '-17581.25' has dtype incompatible with int64, please explicitly cast to a compatible dtype first.\n",
      "  data.loc[data[col] < LowerTail, col] = LowerTail # all outliers less than lowertail, assigned by lowertail value\n"
     ]
    }
   ],
   "source": [
    "Checking_and_Handling_Of_Outliers(data, \"Fresh\")"
   ]
  },
  {
   "cell_type": "code",
   "execution_count": 40,
   "id": "1b8c821a-2511-4796-a739-4c6e757e426d",
   "metadata": {},
   "outputs": [
    {
     "data": {
      "image/png": "[encoded data removed]",
      "text/plain": [
       "<Figure size 640x480 with 1 Axes>"
      ]
     },
     "metadata": {},
     "output_type": "display_data"
    },
    {
     "name": "stdout",
     "output_type": "stream",
     "text": [
      "25% Quantile q1 = 1533.0\n",
      "75% Quantile q3 = 7190.25\n",
      "IQR = 5657.25\n",
      "\n",
      "--------------------------------------------------------------------------------\n",
      "Lower Tail = -6952.875\n",
      "Upper Tail = 15676.125\n",
      "--------------------------------------------------------------------------------\n",
      "\n",
      "Outliers :\n",
      "      Channel  Region     Fresh   Milk  Grocery  Frozen  Detergents_Paper  \\\n",
      "23       2.0     3.0  26373.00  36423    22019    5154              4337   \n",
      "28       2.0     3.0   4113.00  20484    25957    1158              8604   \n",
      "38       2.0     3.0   4591.00  15729    16709      33              6956   \n",
      "45       2.0     3.0   5181.00  22044    21531    1740              7353   \n",
      "47       2.0     3.0  37642.75  54259    55571    7782             24171   \n",
      "49       2.0     3.0   4967.00  21412    28921    1798             13583   \n",
      "56       2.0     3.0   4098.00  29892    26866    2616             17740   \n",
      "61       2.0     3.0  35942.00  38369    59598    3254             26701   \n",
      "65       2.0     3.0     85.00  20959    45828      36             24231   \n",
      "85       2.0     3.0  16117.00  46197    92780    1026             40827   \n",
      "86       2.0     3.0  22925.00  73498    32114     987             20070   \n",
      "92       2.0     3.0   9198.00  27472    32034    3232             18906   \n",
      "109      2.0     3.0   1406.00  16729    28986     673               836   \n",
      "163      2.0     3.0   5531.00  15726    26870    2367             13726   \n",
      "171      2.0     3.0    200.00  25862    19816     651              8773   \n",
      "181      1.0     3.0  37642.75  29627    18148   16745              4948   \n",
      "183      1.0     3.0  36847.00  43950    20170   36534               239   \n",
      "211      2.0     1.0  12119.00  28326    39694    4736             19410   \n",
      "216      2.0     1.0   2532.00  16599    36486     179             13308   \n",
      "251      2.0     1.0   6134.00  23133    33586    6746             18594   \n",
      "254      1.0     1.0  10379.00  17972     4748    4686              1547   \n",
      "265      1.0     1.0   5909.00  23527    13699   10155               830   \n",
      "309      2.0     2.0    918.00  20655    13567    1465              6846   \n",
      "319      2.0     2.0   9759.00  25071    17645    1128             12408   \n",
      "325      1.0     2.0  32717.00  16784    13626   60869              1272   \n",
      "358      1.0     3.0    759.00  18664     1660    6114               536   \n",
      "384      1.0     3.0  10683.00  21858    15400    3635               282   \n",
      "427      1.0     3.0  31012.00  16687     5429   15082               439   \n",
      "\n",
      "     Delicatessen  \n",
      "23          16523  \n",
      "28           5206  \n",
      "38            433  \n",
      "45           4985  \n",
      "47           6465  \n",
      "49           1163  \n",
      "56           1340  \n",
      "61           2017  \n",
      "65           1423  \n",
      "85           2944  \n",
      "86            903  \n",
      "92           5130  \n",
      "109             3  \n",
      "163           446  \n",
      "171          6250  \n",
      "181          8550  \n",
      "183         47943  \n",
      "211          2870  \n",
      "216           674  \n",
      "251          5121  \n",
      "254          3265  \n",
      "265          3636  \n",
      "309           806  \n",
      "319          1625  \n",
      "325          5609  \n",
      "358          4100  \n",
      "384          5120  \n",
      "427          1163  \n",
      "--------------------------------------------------------------------------------\n",
      "After handling of Outliers data:\n",
      "\n",
      "   Channel  Region    Fresh    Milk  Grocery  Frozen  Detergents_Paper  \\\n",
      "0      2.0     3.0  12669.0  9656.0     7561     214              2674   \n",
      "1      2.0     3.0   7057.0  9810.0     9568    1762              3293   \n",
      "2      2.0     3.0   6353.0  8808.0     7684    2405              3516   \n",
      "3      1.0     3.0  13265.0  1196.0     4221    6404               507   \n",
      "4      2.0     3.0  22615.0  5410.0     7198    3915              1777   \n",
      "\n",
      "   Delicatessen  \n",
      "0          1338  \n",
      "1          1776  \n",
      "2          7844  \n",
      "3          1788  \n",
      "4          5185  \n"
     ]
    },
    {
     "name": "stderr",
     "output_type": "stream",
     "text": [
      "C:\\Users\\deshm\\AppData\\Local\\Temp\\ipykernel_3780\\4129211344.py:25: FutureWarning: Setting an item of incompatible dtype is deprecated and will raise an error in a future version of pandas. Value '-6952.875' has dtype incompatible with int64, please explicitly cast to a compatible dtype first.\n",
      "  data.loc[data[col] < LowerTail, col] = LowerTail # all outliers less than lowertail, assigned by lowertail value\n"
     ]
    }
   ],
   "source": [
    "Checking_and_Handling_Of_Outliers(data, \"Milk\")"
   ]
  },
  {
   "cell_type": "code",
   "execution_count": 42,
   "id": "91a7272d-31fe-4915-8fac-986da5a872ba",
   "metadata": {},
   "outputs": [],
   "source": [
    "# Bivariate analysis of columns\n",
    "def bivariate_violin_plot(data, categorical_col, numerical_col):\n",
    "    plt.figure(figsize=(12, 6))\n",
    "    sns.violinplot(x=categorical_col, y=numerical_col, data=data, palette=\"muted\", inner=\"quartile\")\n",
    "    plt.title(f'Violin Plot: {numerical_col} by {categorical_col}', fontsize=16)\n",
    "    plt.xlabel(categorical_col, fontsize=12)\n",
    "    plt.ylabel(numerical_col, fontsize=12)\n",
    "    plt.show()"
   ]
  },
  {
   "cell_type": "code",
   "execution_count": 44,
   "id": "626dd979-72e1-4813-8c42-50091fd2d4ef",
   "metadata": {},
   "outputs": [
    {
     "name": "stderr",
     "output_type": "stream",
     "text": [
      "C:\\Users\\deshm\\AppData\\Local\\Temp\\ipykernel_3780\\3825122554.py:4: FutureWarning: \n",
      "\n",
      "Passing `palette` without assigning `hue` is deprecated and will be removed in v0.14.0. Assign the `x` variable to `hue` and set `legend=False` for the same effect.\n",
      "\n",
      "  sns.violinplot(x=categorical_col, y=numerical_col, data=data, palette=\"muted\", inner=\"quartile\")\n"
     ]
    },
    {
     "data": {
      "image/png": "[encoded data removed]",
      "text/plain": [
       "<Figure size 1200x600 with 1 Axes>"
      ]
     },
     "metadata": {},
     "output_type": "display_data"
    }
   ],
   "source": [
    "bivariate_violin_plot(data,\"Milk\" ,\"Fresh\")"
   ]
  },
  {
   "cell_type": "code",
   "execution_count": null,
   "id": "5ce19f2e-b8f4-4dfa-ad28-281a4e8c8e27",
   "metadata": {},
   "outputs": [],
   "source": []
  },
  {
   "cell_type": "code",
   "execution_count": null,
   "id": "15124d2c-0f43-4325-9c9d-a764db032662",
   "metadata": {},
   "outputs": [],
   "source": []
  }
 ],
 "metadata": {
  "kernelspec": {
   "display_name": "Python 3 (ipykernel)",
   "language": "python",
   "name": "python3"
  },
  "language_info": {
   "codemirror_mode": {
    "name": "ipython",
    "version": 3
   },
   "file_extension": ".py",
   "mimetype": "text/x-python",
   "name": "python",
   "nbconvert_exporter": "python",
   "pygments_lexer": "ipython3",
   "version": "3.12.7"
  }
 },
 "nbformat": 4,
 "nbformat_minor": 5
}
